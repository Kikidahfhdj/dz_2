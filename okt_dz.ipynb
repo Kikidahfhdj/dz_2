{
 "cells": [
  {
   "cell_type": "code",
   "execution_count": 1,
   "id": "815cc68d-691d-4fd5-a6bb-7f82785d9138",
   "metadata": {},
   "outputs": [],
   "source": [
    "import pandas as pd\n",
    "\n",
    "df_ratings = pd.read_csv(\"ratings.csv\")\n",
    "df_movies = pd.read_csv(\"movies.csv\")"
   ]
  },
  {
   "cell_type": "code",
   "execution_count": 2,
   "id": "bbfa8613-ea55-44b3-b823-f565fe95276e",
   "metadata": {},
   "outputs": [],
   "source": [
    "df_ratings = df_ratings.merge(df_movies[['movieId', 'title']], how='left', on='movieId')"
   ]
  },
  {
   "cell_type": "code",
   "execution_count": 3,
   "id": "198892f2-47b0-4c3d-bea5-a5bfa3f1c489",
   "metadata": {},
   "outputs": [],
   "source": [
    "df_user_item = df_ratings.pivot_table(index='userId', columns='title', values='rating')"
   ]
  },
  {
   "cell_type": "code",
   "execution_count": 4,
   "id": "c553ce55-e665-4991-92aa-047846e073b4",
   "metadata": {},
   "outputs": [],
   "source": [
    "corr_matrix = df_user_item.corr(method='pearson', min_periods=100)"
   ]
  },
  {
   "cell_type": "code",
   "execution_count": 5,
   "id": "e9714a3e-69ef-4179-b34e-5df1f7c14823",
   "metadata": {},
   "outputs": [],
   "source": [
    "user_ratings = df_user_item.loc[7].dropna()"
   ]
  },
  {
   "cell_type": "code",
   "execution_count": 6,
   "id": "74d28125-4f43-458d-9fcb-298059e134c9",
   "metadata": {},
   "outputs": [],
   "source": [
    "simCandidates = pd.Series()\n",
    "for title, rating in user_ratings.items():\n",
    "    sims = corr_matrix[title].dropna()\n",
    "    sims = sims.map(lambda x: x * rating)\n",
    "    simCandidates = pd.concat([simCandidates, sims])"
   ]
  },
  {
   "cell_type": "code",
   "execution_count": 7,
   "id": "04bada74-9ac3-4207-b155-9a4ec4ecd1f7",
   "metadata": {},
   "outputs": [],
   "source": [
    "simCandidates = simCandidates.groupby(simCandidates.index).sum()\n",
    "simCandidates.sort_values(inplace=True, ascending=False)"
   ]
  },
  {
   "cell_type": "code",
   "execution_count": 8,
   "id": "b73a2bc9-9e4b-4b78-9a7b-f8e26e4378c9",
   "metadata": {},
   "outputs": [],
   "source": [
    "not_watched = set(simCandidates.index) - set(user_ratings.index)\n",
    "filteredSims = simCandidates[list(not_watched)].sort_values(ascending=False)"
   ]
  },
  {
   "cell_type": "code",
   "execution_count": 10,
   "id": "3e8a0760-9d12-4c4d-ba96-fd331c877a1f",
   "metadata": {},
   "outputs": [
    {
     "name": "stdout",
     "output_type": "stream",
     "text": [
      "Top 3 movie recommendation:\n",
      "Matrix, The (1999)\n",
      "Raiders of the Lost Ark (Indiana Jones and the Raiders of the Lost Ark) (1981)\n",
      "Shawshank Redemption, The (1994)\n"
     ]
    }
   ],
   "source": [
    "recommendation = filteredSims.head(3)\n",
    "print(\"Top 3 movie recommendation:\")\n",
    "for title in recommendation.index:\n",
    "    print(title)"
   ]
  },
  {
   "cell_type": "code",
   "execution_count": null,
   "id": "478a4993-c717-4d74-8367-17a85b2bd29a",
   "metadata": {},
   "outputs": [],
   "source": []
  }
 ],
 "metadata": {
  "kernelspec": {
   "display_name": "Python 3 (ipykernel)",
   "language": "python",
   "name": "python3"
  },
  "language_info": {
   "codemirror_mode": {
    "name": "ipython",
    "version": 3
   },
   "file_extension": ".py",
   "mimetype": "text/x-python",
   "name": "python",
   "nbconvert_exporter": "python",
   "pygments_lexer": "ipython3",
   "version": "3.8.18"
  }
 },
 "nbformat": 4,
 "nbformat_minor": 5
}
